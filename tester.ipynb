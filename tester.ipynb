{
 "cells": [
  {
   "cell_type": "code",
   "execution_count": 1,
   "metadata": {},
   "outputs": [],
   "source": [
    "import torch\n",
    "import torch.nn.functional as F\n",
    "import torch.nn as nn"
   ]
  },
  {
   "cell_type": "code",
   "execution_count": 2,
   "metadata": {},
   "outputs": [],
   "source": [
    "inputs = torch.randn(2, 16, 128)"
   ]
  },
  {
   "cell_type": "code",
   "execution_count": 11,
   "metadata": {},
   "outputs": [
    {
     "data": {
      "text/plain": [
       "tensor([[[-1.0242,  1.0812,  1.4640,  ...,  0.8202, -0.2408, -0.0816],\n",
       "         [-0.7058,  0.8087,  1.7388,  ..., -0.9820, -1.8976, -1.1078],\n",
       "         [ 0.7164,  0.4040,  2.4028,  ..., -0.4659, -0.8417,  1.1457],\n",
       "         ...,\n",
       "         [ 0.6881, -0.7238,  0.6769,  ..., -0.9413, -1.6747, -0.4243],\n",
       "         [-0.5988, -2.1411,  2.1215,  ..., -1.4023,  0.0193,  1.9504],\n",
       "         [ 0.4758,  1.6254,  0.0340,  ...,  0.4806,  0.4660, -0.9301]],\n",
       "\n",
       "        [[ 0.3072, -0.9619, -0.8992,  ...,  0.0185, -0.1579,  0.7933],\n",
       "         [-0.3199, -0.1025, -0.2879,  ...,  0.6248,  0.0834,  0.9303],\n",
       "         [-0.1957, -0.9109,  1.4138,  ..., -1.2633,  0.1951,  0.8212],\n",
       "         ...,\n",
       "         [ 1.2140,  1.0867, -0.5081,  ...,  0.0654, -0.7069,  0.5144],\n",
       "         [ 1.8761,  0.3435,  0.1269,  ..., -0.2400, -0.1012,  1.1080],\n",
       "         [ 0.2685,  0.3654, -1.0498,  ..., -0.6543,  0.0654, -0.0447]]])"
      ]
     },
     "execution_count": 11,
     "metadata": {},
     "output_type": "execute_result"
    }
   ],
   "source": [
    "inputs"
   ]
  },
  {
   "cell_type": "code",
   "execution_count": 5,
   "metadata": {},
   "outputs": [],
   "source": [
    "from sparse_local_attention import SparseLocalAttention"
   ]
  },
  {
   "cell_type": "code",
   "execution_count": 6,
   "metadata": {},
   "outputs": [],
   "source": [
    "attn = SparseLocalAttention()"
   ]
  },
  {
   "cell_type": "code",
   "execution_count": 7,
   "metadata": {},
   "outputs": [],
   "source": [
    "output = attn(inputs)"
   ]
  },
  {
   "cell_type": "code",
   "execution_count": 10,
   "metadata": {},
   "outputs": [
    {
     "data": {
      "text/plain": [
       "tensor([[[ 2.1371,  0.8242, -0.4859,  ...,  1.4612, -0.4145,  0.0779],\n",
       "         [ 2.0700, -1.3747, -0.3760,  ...,  0.3362,  0.0922,  0.5573],\n",
       "         [-0.8251, -0.6362,  0.8719,  ..., -0.8879,  0.5082, -0.9677],\n",
       "         ...,\n",
       "         [ 2.1876,  0.6239,  1.4199,  ..., -2.4291,  0.2614,  0.0418],\n",
       "         [-0.7669,  0.2484, -0.7664,  ...,  0.6361, -0.5851,  0.6883],\n",
       "         [ 0.4524, -0.3753, -0.5763,  ..., -0.1321, -1.3700, -1.2259]],\n",
       "\n",
       "        [[ 0.9488, -0.5532,  1.1704,  ...,  1.0476,  1.0656,  1.0696],\n",
       "         [-0.2137,  0.5663, -0.4979,  ..., -0.5791, -0.4449, -0.7270],\n",
       "         [ 0.9488, -0.5532,  1.1704,  ...,  1.0476,  1.0656,  1.0696],\n",
       "         ...,\n",
       "         [-0.5169,  0.8609,  0.7846,  ...,  0.1044,  0.2443,  1.0016],\n",
       "         [-0.5169,  0.8609,  0.7846,  ...,  0.1044,  0.2443,  1.0016],\n",
       "         [-0.3199, -0.1025, -0.2879,  ...,  0.6248,  0.0834,  0.9303]]])"
      ]
     },
     "execution_count": 10,
     "metadata": {},
     "output_type": "execute_result"
    }
   ],
   "source": [
    "output"
   ]
  },
  {
   "cell_type": "code",
   "execution_count": 13,
   "metadata": {},
   "outputs": [],
   "source": [
    "import matplotlib.pyplot as plt"
   ]
  },
  {
   "cell_type": "code",
   "execution_count": null,
   "metadata": {},
   "outputs": [],
   "source": []
  }
 ],
 "metadata": {
  "kernelspec": {
   "display_name": "torch2",
   "language": "python",
   "name": "python3"
  },
  "language_info": {
   "codemirror_mode": {
    "name": "ipython",
    "version": 3
   },
   "file_extension": ".py",
   "mimetype": "text/x-python",
   "name": "python",
   "nbconvert_exporter": "python",
   "pygments_lexer": "ipython3",
   "version": "3.11.4"
  },
  "orig_nbformat": 4
 },
 "nbformat": 4,
 "nbformat_minor": 2
}
